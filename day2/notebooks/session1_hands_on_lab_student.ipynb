{
 "cells": [
  {
   "cell_type": "markdown",
   "metadata": {},
   "source": [
    "# Session 1: Palawan Land Cover Classification with Verified Training Data\n",
    "\n",
    "**Duration:** 90 minutes | **Instructor:** CoPhil Advanced Training\n",
    "\n",
    "## Learning Objectives\n",
    "\n",
    "1. Set up and authenticate Google Earth Engine in Google Colab\n",
    "2. Acquire and preprocess Sentinel-2 satellite imagery\n",
    "3. Calculate spectral indices (NDVI, NDWI, NDBI, EVI)\n",
    "4. Create training datasets using verified open data sources\n",
    "5. Train a Random Forest classifier\n",
    "6. Perform land cover classification\n",
    "7. Assess accuracy and generate statistics\n",
    "\n",
    "## Study Area: Palawan Province\n",
    "\n",
    "- UNESCO Biosphere Reserve\n",
    "- High biodiversity, critical for conservation\n",
    "- Environmental challenges: deforestation, mining, agriculture expansion"
   ]
  },
  {
   "cell_type": "markdown",
   "metadata": {},
   "source": [
    "## A. Setup and Authentication"
   ]
  },
  {
   "cell_type": "code",
   "execution_count": null,
   "metadata": {},
   "outputs": [],
   "source": [
    "# Install required packages\n",
    "!pip install earthengine-api geemap pandas numpy matplotlib seaborn -q"
   ]
  },
  {
   "cell_type": "code",
   "execution_count": null,
   "metadata": {},
   "outputs": [],
   "source": [
    "# Import all libraries\n",
    "import ee\n",
    "import geemap\n",
    "import pandas as pd\n",
    "import numpy as np\n",
    "import matplotlib.pyplot as plt\n",
    "import seaborn as sns\n",
    "from datetime import datetime\n",
    "\n",
    "# Set plot style\n",
    "plt.style.use('seaborn-v0_8-darkgrid')\n",
    "sns.set_palette(\"husl\")\n",
    "\n",
    "print(\"✓ Libraries imported successfully\")"
   ]
  },
  {
   "cell_type": "code",
   "execution_count": null,
   "metadata": {},
   "outputs": [],
   "source": [
    "# Authenticate and initialize Earth Engine\n",
    "ee.Authenticate()\n",
    "ee.Initialize(project='gee-trainning')\n",
    "\n",
    "print(\"✓ Earth Engine initialized successfully\")"
   ]
  },
  {
   "cell_type": "markdown",
   "metadata": {},
   "source": [
    "## B. Define Study Area"
   ]
  },
  {
   "cell_type": "code",
   "execution_count": null,
   "metadata": {},
   "outputs": [],
   "source": [
    "# Define Palawan boundary\n",
    "palawan_coords = [\n",
    "    [117.0, 8.5],   # Southwest\n",
    "    [117.0, 12.5],  # Northwest  \n",
    "    [120.5, 12.5],  # Northeast\n",
    "    [120.5, 8.5],   # Southeast\n",
    "    [117.0, 8.5]    # Close polygon\n",
    "]\n",
    "\n",
    "palawan = ee.Geometry.Polygon(palawan_coords)\n",
    "\n",
    "# Calculate area\n",
    "area_km2 = palawan.area().divide(1e6).getInfo()\n",
    "print(f\"Study Area: Palawan Province\")\n",
    "print(f\"Approximate Area: {area_km2:,.0f} km²\")"
   ]
  },
  {
   "cell_type": "code",
   "execution_count": null,
   "metadata": {},
   "outputs": [],
   "source": [
    "# Create interactive map\n",
    "Map = geemap.Map(center=[10.5, 118.8], zoom=8, height='600px')\n",
    "Map.addLayer(palawan, {'color': 'red'}, 'Palawan Boundary')\n",
    "Map"
   ]
  },
  {
   "cell_type": "markdown",
   "metadata": {},
   "source": [
    "## C. Sentinel-2 Data Acquisition"
   ]
  },
  {
   "cell_type": "code",
   "execution_count": null,
   "metadata": {},
   "outputs": [],
   "source": [
    "# Define date range (using 2024 for better availability)\n",
    "start_date = '2024-01-01'\n",
    "end_date = '2024-12-31'\n",
    "\n",
    "# Cloud masking function\n",
    "def mask_s2_clouds(image):\n",
    "    qa = image.select('QA60')\n",
    "    cloud_bit_mask = 1 << 10\n",
    "    cirrus_bit_mask = 1 << 11\n",
    "    mask = (qa.bitwiseAnd(cloud_bit_mask).eq(0)\n",
    "            .And(qa.bitwiseAnd(cirrus_bit_mask).eq(0)))\n",
    "    return image.updateMask(mask).divide(10000)\n",
    "\n",
    "print(f\"Date range: {start_date} to {end_date}\")"
   ]
  },
  {
   "cell_type": "code",
   "execution_count": null,
   "metadata": {},
   "outputs": [],
   "source": [
    "# Load Sentinel-2 collection\n",
    "s2_collection = (ee.ImageCollection('COPERNICUS/S2_SR_HARMONIZED')\n",
    "                 .filterBounds(palawan)\n",
    "                 .filterDate(start_date, end_date)\n",
    "                 .filter(ee.Filter.lt('CLOUDY_PIXEL_PERCENTAGE', 20))\n",
    "                 .map(mask_s2_clouds))\n",
    "\n",
    "# Create median composite\n",
    "s2_composite = s2_collection.median().clip(palawan)\n",
    "\n",
    "# Select bands\n",
    "bands = ['B2', 'B3', 'B4', 'B8', 'B11', 'B12']\n",
    "s2_composite = s2_composite.select(bands)\n",
    "\n",
    "print(f\"✓ Sentinel-2 composite created\")\n",
    "print(f\"Images in collection: {s2_collection.size().getInfo()}\")"
   ]
  },
  {
   "cell_type": "code",
   "execution_count": null,
   "metadata": {},
   "outputs": [],
   "source": [
    "# Visualize RGB composite\n",
    "rgb_vis = {'bands': ['B4', 'B3', 'B2'], 'min': 0.0, 'max': 0.3, 'gamma': 1.4}\n",
    "Map.addLayer(s2_composite, rgb_vis, 'Sentinel-2 RGB')\n",
    "Map"
   ]
  },
  {
   "cell_type": "markdown",
   "metadata": {},
   "source": [
    "## D. Calculate Spectral Indices"
   ]
  },
  {
   "cell_type": "code",
   "execution_count": null,
   "metadata": {},
   "outputs": [],
   "source": [
    "# Calculate all indices\n",
    "ndvi = s2_composite.normalizedDifference(['B8', 'B4']).rename('NDVI')\n",
    "ndwi = s2_composite.normalizedDifference(['B3', 'B8']).rename('NDWI')\n",
    "ndbi = s2_composite.normalizedDifference(['B11', 'B8']).rename('NDBI')\n",
    "\n",
    "evi = s2_composite.expression(\n",
    "    '2.5 * ((NIR - RED) / (NIR + 6 * RED - 7.5 * BLUE + 1))',\n",
    "    {\n",
    "        'NIR': s2_composite.select('B8'),\n",
    "        'RED': s2_composite.select('B4'),\n",
    "        'BLUE': s2_composite.select('B2')\n",
    "    }\n",
    ").rename('EVI')\n",
    "\n",
    "print(\"✓ Spectral indices calculated\")"
   ]
  },
  {
   "cell_type": "markdown",
   "metadata": {},
   "source": [
    "## E. Feature Stack Preparation"
   ]
  },
  {
   "cell_type": "code",
   "execution_count": null,
   "metadata": {},
   "outputs": [],
   "source": [
    "# Create feature stack\n",
    "feature_stack = (s2_composite\n",
    "                 .addBands(ndvi)\n",
    "                 .addBands(ndwi)\n",
    "                 .addBands(ndbi)\n",
    "                 .addBands(evi))\n",
    "\n",
    "feature_names = feature_stack.bandNames().getInfo()\n",
    "print(f\"✓ Feature stack created with {len(feature_names)} features\")\n",
    "print(f\"Features: {feature_names}\")"
   ]
  },
  {
   "cell_type": "markdown",
   "metadata": {},
   "source": [
    "## F. Training Data from Verified Open Sources\n",
    "\n",
    "Using verified datasets:\n",
    "- **ESA WorldCover 2021**: 10m resolution, 76.7% accuracy\n",
    "- **Global Mangrove Watch**: 25m resolution, 87.4% accuracy for mangroves\n",
    "- **OpenStreetMap**: Urban features"
   ]
  },
  {
   "cell_type": "code",
   "execution_count": null,
   "metadata": {},
   "outputs": [],
   "source": [
    "# Define class properties\n",
    "class_info = {\n",
    "    1: {'name': 'Forest', 'color': '006400'},\n",
    "    2: {'name': 'Agriculture', 'color': 'FFFF00'},\n",
    "    3: {'name': 'Water', 'color': '0000FF'},\n",
    "    4: {'name': 'Urban', 'color': 'FF0000'},\n",
    "    5: {'name': 'Mangrove', 'color': '008B8B'}\n",
    "}\n",
    "\n",
    "print(\"Land Cover Classes:\")\n",
    "for class_id, info in class_info.items():\n",
    "    print(f\"  {class_id}: {info['name']}\")"
   ]
  },
  {
   "cell_type": "code",
   "execution_count": null,
   "metadata": {},
   "outputs": [],
   "source": [
    "# Load ESA WorldCover 2021\n",
    "worldcover = ee.ImageCollection('ESA/WorldCover/v200') \\\n",
    "    .filterDate('2021-01-01', '2022-01-01') \\\n",
    "    .first() \\\n",
    "    .clip(palawan)\n",
    "\n",
    "# Remap to our classes\n",
    "worldcover_remapped = worldcover.remap(\n",
    "    [10, 20, 30, 40, 50, 60, 70, 80, 90, 95, 100],\n",
    "    [1,  1,  1,  2,  4,  0,  0,  3,  0,  5,  0],\n",
    "    0\n",
    ").rename('landcover')\n",
    "\n",
    "print(\"✓ ESA WorldCover loaded (10m, 76.7% accuracy)\")"
   ]
  },
  {
   "cell_type": "code",
   "execution_count": null,
   "metadata": {},
   "outputs": [],
   "source": [
    "# Generate stratified random training points\n",
    "training_points = worldcover_remapped.stratifiedSample(\n",
    "    numPoints=500,\n",
    "    classBand='landcover',\n",
    "    region=palawan,\n",
    "    scale=30,\n",
    "    seed=42,\n",
    "    geometries=True\n",
    ").filter(ee.Filter.neq('landcover', 0))\n",
    "\n",
    "print(f\"✓ Training points generated: {training_points.size().getInfo()} total\")"
   ]
  },
  {
   "cell_type": "code",
   "execution_count": null,
   "metadata": {},
   "outputs": [],
   "source": [
    "# Add urban training points from known cities\n",
    "urban_centers = [\n",
    "    ee.Geometry.Point([118.7384, 9.7392]).buffer(5000),   # Puerto Princesa\n",
    "    ee.Geometry.Point([119.507, 10.693]).buffer(2000),     # Taytay\n",
    "    ee.Geometry.Point([119.408, 11.041]).buffer(2000),     # El Nido\n",
    "    ee.Geometry.Point([118.3707, 9.3085]).buffer(2000),    # Bataraza\n",
    "]\n",
    "\n",
    "urban_areas = ee.FeatureCollection([ee.Feature(center, {'landcover': 4}) for center in urban_centers])\n",
    "\n",
    "urban_points = ee.FeatureCollection.randomPoints(\n",
    "    region=urban_areas,\n",
    "    points=200,\n",
    "    seed=42\n",
    ").map(lambda feat: feat.set('landcover', 4))\n",
    "\n",
    "# Combine all training points\n",
    "all_training_points = training_points.merge(urban_points)\n",
    "print(f\"✓ Final training dataset: {all_training_points.size().getInfo()} points\")"
   ]
  },
  {
   "cell_type": "code",
   "execution_count": null,
   "metadata": {},
   "outputs": [],
   "source": [
    "# Sample spectral values from training points\n",
    "training_samples = feature_stack.sampleRegions(\n",
    "    collection=all_training_points,\n",
    "    properties=['landcover'],\n",
    "    scale=10,\n",
    "    geometries=False,\n",
    "    tileScale=4\n",
    ")\n",
    "\n",
    "print(f\"✓ Training samples extracted: {training_samples.size().getInfo()} pixels\")"
   ]
  },
  {
   "cell_type": "code",
   "execution_count": null,
   "metadata": {},
   "outputs": [],
   "source": [
    "# Visualize training points\n",
    "Map_training = geemap.Map(center=[10.5, 118.8], zoom=8, height='600px')\n",
    "Map_training.addLayer(s2_composite, rgb_vis, 'Sentinel-2 RGB')\n",
    "\n",
    "for class_id, info in class_info.items():\n",
    "    class_points = all_training_points.filter(ee.Filter.eq('landcover', class_id))\n",
    "    Map_training.addLayer(class_points, {'color': info['color']}, f\"Training: {info['name']}\")\n",
    "\n",
    "Map_training"
   ]
  },
  {
   "cell_type": "markdown",
   "metadata": {},
   "source": [
    "## G. Random Forest Training"
   ]
  },
  {
   "cell_type": "code",
   "execution_count": null,
   "metadata": {},
   "outputs": [],
   "source": [
    "# Train Random Forest classifier\n",
    "rf_classifier = ee.Classifier.smileRandomForest(\n",
    "    numberOfTrees=100,\n",
    "    variablesPerSplit=None,\n",
    "    minLeafPopulation=1,\n",
    "    bagFraction=0.632,\n",
    "    seed=42\n",
    ")\n",
    "\n",
    "trained_classifier = rf_classifier.train(\n",
    "    features=training_samples,\n",
    "    classProperty='landcover',\n",
    "    inputProperties=feature_names\n",
    ")\n",
    "\n",
    "print(\"✓ Random Forest training complete\")"
   ]
  },
  {
   "cell_type": "markdown",
   "metadata": {},
   "source": [
    "## H. Image Classification"
   ]
  },
  {
   "cell_type": "code",
   "execution_count": null,
   "metadata": {},
   "outputs": [],
   "source": [
    "# Apply classifier\n",
    "classified_image = feature_stack.classify(trained_classifier)\n",
    "\n",
    "# Define palette\n",
    "class_palette = [class_info[i]['color'] for i in sorted(class_info.keys())]\n",
    "\n",
    "# Visualize\n",
    "Map_classified = geemap.Map(center=[10.5, 118.8], zoom=8, height='700px')\n",
    "Map_classified.addLayer(s2_composite, rgb_vis, 'Sentinel-2 RGB', False)\n",
    "Map_classified.addLayer(classified_image, {'min': 1, 'max': 5, 'palette': class_palette}, 'Land Cover')\n",
    "\n",
    "print(\"✓ Classification complete\")\n",
    "Map_classified"
   ]
  },
  {
   "cell_type": "markdown",
   "metadata": {},
   "source": [
    "## I. Accuracy Assessment"
   ]
  },
  {
   "cell_type": "code",
   "execution_count": null,
   "metadata": {},
   "outputs": [],
   "source": [
    "# Create validation dataset\n",
    "validation_points = worldcover_remapped.stratifiedSample(\n",
    "    numPoints=100,\n",
    "    classBand='landcover',\n",
    "    region=palawan,\n",
    "    scale=30,\n",
    "    seed=123,  # Different seed\n",
    "    geometries=True\n",
    ").filter(ee.Filter.neq('landcover', 0))\n",
    "\n",
    "validation_samples = feature_stack.sampleRegions(\n",
    "    collection=validation_points,\n",
    "    properties=['landcover'],\n",
    "    scale=10,\n",
    "    geometries=False\n",
    ")\n",
    "\n",
    "# Classify validation set\n",
    "validation_classified = validation_samples.classify(trained_classifier)\n",
    "\n",
    "# Generate confusion matrix\n",
    "confusion_matrix = validation_classified.errorMatrix('landcover', 'classification')\n",
    "overall_accuracy = confusion_matrix.accuracy().getInfo()\n",
    "kappa = confusion_matrix.kappa().getInfo()\n",
    "\n",
    "print(f\"Overall Accuracy: {overall_accuracy*100:.2f}%\")\n",
    "print(f\"Kappa Coefficient: {kappa:.4f}\")"
   ]
  },
  {
   "cell_type": "markdown",
   "metadata": {},
   "source": [
    "## J. Area Statistics"
   ]
  },
  {
   "cell_type": "code",
   "execution_count": null,
   "metadata": {},
   "outputs": [],
   "source": [
    "# Calculate area per class\n",
    "pixel_area = ee.Image.pixelArea()\n",
    "area_image = pixel_area.addBands(classified_image)\n",
    "\n",
    "area_stats = area_image.reduceRegion(\n",
    "    reducer=ee.Reducer.sum().group(\n",
    "        groupField=1,\n",
    "        groupName='landcover'\n",
    "    ),\n",
    "    geometry=palawan,\n",
    "    scale=10,\n",
    "    maxPixels=1e10,\n",
    "    tileScale=4\n",
    ")\n",
    "\n",
    "print(\"Calculating area statistics...\")\n",
    "print(\"This may take 2-3 minutes...\")"
   ]
  },
  {
   "cell_type": "markdown",
   "metadata": {},
   "source": [
    "## K. Export Results"
   ]
  },
  {
   "cell_type": "code",
   "execution_count": null,
   "metadata": {},
   "outputs": [],
   "source": [
    "# Export classification\n",
    "export_classification = ee.batch.Export.image.toDrive(\n",
    "    image=classified_image,\n",
    "    description='Palawan_LandCover_Classification',\n",
    "    folder='EarthEngine',\n",
    "    fileNamePrefix='palawan_landcover_2024',\n",
    "    region=palawan.geometry(),\n",
    "    scale=10,\n",
    "    crs='EPSG:4326',\n",
    "    maxPixels=1e10,\n",
    "    fileFormat='GeoTIFF'\n",
    ")\n",
    "\n",
    "print(\"✓ Export configured\")\n",
    "print(\"To start export, run: export_classification.start()\")\n",
    "print(\"Check progress at: https://code.earthengine.google.com/tasks\")"
   ]
  }
 ],
 "metadata": {
  "kernelspec": {
   "display_name": "Python 3",
   "language": "python",
   "name": "python3"
  },
  "language_info": {
   "codemirror_mode": {
    "name": "ipython",
    "version": 3
   },
   "file_extension": ".py",
   "mimetype": "text/x-python",
   "name": "python",
   "nbconvert_exporter": "python",
   "pygments_lexer": "ipython3",
   "version": "3.8.10"
  }
 },
 "nbformat": 4,
 "nbformat_minor": 4
}