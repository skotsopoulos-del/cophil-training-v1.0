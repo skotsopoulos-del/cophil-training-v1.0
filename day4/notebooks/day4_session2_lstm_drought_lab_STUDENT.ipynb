{
 "cells": [
  {
   "cell_type": "markdown",
   "id": "be50e8ca",
   "metadata": {},
   "source": [
    "# Day 4, Session 2 · Student Notebook\n",
    "### LSTM drought forecasting with Google Earth Engine NDVI"
   ]
  },
  {
   "cell_type": "markdown",
   "id": "f09579d7",
   "metadata": {},
   "source": [
    "## How to use this notebook\n",
    "\n",
    "1. Work through the parts in order. Cells marked **TODO** need your implementation.\n",
    "2. Connect to Google Earth Engine (GEE) to fetch real Sentinel-2 NDVI. If GEE is offline, fall back to the cached CSV.\n",
    "3. Check your answers against the instructor notebook after attempting each section."
   ]
  },
  {
   "cell_type": "markdown",
   "id": "a39e1eae",
   "metadata": {},
   "source": [
    "## Learning objectives\n",
    "\n",
    "- Retrieve NDVI time series for Mindanao provinces using Google Earth Engine.\n",
    "- Convert the NDVI archive into supervised sliding-window data ready for LSTMs.\n",
    "- Build and train a PyTorch LSTM with temporal validation.\n",
    "- Evaluate forecasts and issue drought alerts using NDVI thresholds."
   ]
  },
  {
   "cell_type": "markdown",
   "id": "00cfca68",
   "metadata": {},
   "source": [
    "## Part 1 · Environment setup"
   ]
  },
  {
   "cell_type": "code",
   "execution_count": null,
   "id": "7de8e1e1",
   "metadata": {},
   "outputs": [],
   "source": [
    "# Optional: install the Earth Engine API if it is not available yet\n",
    "# !pip install earthengine-api --quiet"
   ]
  },
  {
   "cell_type": "markdown",
   "id": "f57f47a7",
   "metadata": {},
   "source": [
    "Authenticate with Earth Engine. Run `ee.Authenticate()` only if you have not done so on this machine before."
   ]
  },
  {
   "cell_type": "code",
   "execution_count": null,
   "id": "a7abfa4e",
   "metadata": {},
   "outputs": [],
   "source": [
    "import os\n",
    "import ee\n",
    "\n",
    "# TODO: replace 'your-ee-project-id' with the project that has Earth Engine enabled, or set EE_PROJECT env var.\n",
    "GEE_PROJECT = os.environ.get('EE_PROJECT') or os.environ.get('GEE_PROJECT') or 'your-ee-project-id'\n",
    "\n",
    "if GEE_PROJECT == 'your-ee-project-id':\n",
    "    raise ValueError('Set GEE_PROJECT to your Earth Engine project ID before proceeding.')\n",
    "\n",
    "try:\n",
    "    ee.Initialize(project=GEE_PROJECT)\n",
    "    print(f'Connected to Earth Engine project: {GEE_PROJECT}')\n",
    "except Exception:\n",
    "    print('Authentication required. Uncomment the line below after confirming GEE_PROJECT.')\n",
    "    # ee.Authenticate(auth_mode='notebook', project=GEE_PROJECT)\n",
    "    raise\n"
   ]
  },
  {
   "cell_type": "markdown",
   "id": "27c4101d",
   "metadata": {},
   "source": [
    "## Part 2 · Core imports"
   ]
  },
  {
   "cell_type": "code",
   "execution_count": null,
   "id": "78357e76",
   "metadata": {},
   "outputs": [],
   "source": [
    "import math\n",
    "from pathlib import Path\n",
    "\n",
    "import numpy as np\n",
    "import pandas as pd\n",
    "import matplotlib.pyplot as plt\n",
    "\n",
    "import torch\n",
    "from torch import nn\n",
    "from torch.utils.data import Dataset, DataLoader\n",
    "\n",
    "plt.style.use('seaborn-v0_8-whitegrid')\n",
    "\n",
    "device = torch.device('cuda' if torch.cuda.is_available() else 'cpu')\n",
    "print(f'Using device: {device}')"
   ]
  },
  {
   "cell_type": "markdown",
   "id": "15c6bad2",
   "metadata": {},
   "source": [
    "## Part 3 · Define Mindanao regions (GEE geometries)"
   ]
  },
  {
   "cell_type": "code",
   "execution_count": null,
   "id": "725ef906",
   "metadata": {},
   "outputs": [],
   "source": [
    "REGION_GEOMETRIES = {\n",
    "    \"Bukidnon\": ee.Geometry.Polygon([\n",
    "        [124.36, 8.84],\n",
    "        [124.36, 7.05],\n",
    "        [125.63, 7.05],\n",
    "        [125.63, 8.84],\n",
    "        [124.36, 8.84]\n",
    "    ]),\n",
    "    \"South Cotabato\": ee.Geometry.Polygon([\n",
    "        [124.28, 6.88],\n",
    "        [124.28, 5.68],\n",
    "        [125.30, 5.68],\n",
    "        [125.30, 6.88],\n",
    "        [124.28, 6.88]\n",
    "    ])\n",
    "}\n",
    "\n",
    "REGION_GEOMETRIES"
   ]
  },
  {
   "cell_type": "markdown",
   "id": "e242d685",
   "metadata": {},
   "source": [
    "## Part 4 · TODO – build a helper that fetches monthly NDVI from GEE"
   ]
  },
  {
   "cell_type": "code",
   "execution_count": null,
   "id": "008b75da",
   "metadata": {},
   "outputs": [],
   "source": [
    "def fetch_monthly_ndvi(regions, start_date='2018-01-01', end_date='2023-12-31', cloud_pct=35, scale=20):\n",
    "    \"\"\"Return a wide DataFrame with monthly NDVI columns (NDVI_<region>).\"\"\"\n",
    "    # TODO: implement the following steps\n",
    "    # 1. Build a monthly date range between start/end using pandas (freq='MS').\n",
    "    # 2. Construct a Sentinel-2 SR image collection filtered by date and CLOUDY_PIXEL_PERCENTAGE <= cloud_pct.\n",
    "    # 3. Apply Scene Classification (SCL) masking to drop clouds, shadows, snow/ice, then add an NDVI band.\n",
    "    # 4. For each region/month, filter to [month_start, next_month_start) and reduce the masked composite to mean NDVI.\n",
    "    # 5. Assemble the results into a tidy DataFrame, pivot to wide format, and fill small gaps via interpolation.\n",
    "    raise NotImplementedError(\"Implement fetch_monthly_ndvi using Earth Engine.\")\n"
   ]
  },
  {
   "cell_type": "markdown",
   "id": "e22d7674",
   "metadata": {},
   "source": [
    "## Part 5 · Load NDVI data (live from GEE or cached sample)"
   ]
  },
  {
   "cell_type": "code",
   "execution_count": null,
   "id": "b9a150a8",
   "metadata": {},
   "outputs": [],
   "source": [
    "CACHE_DIR = Path('day4/data')\n",
    "CACHE_DIR.mkdir(exist_ok=True)\n",
    "SAMPLE_PATH = CACHE_DIR / 'mindanao_ndvi_sample.csv'\n",
    "LATEST_EXPORT_PATH = CACHE_DIR / 'mindanao_ndvi_gee.csv'\n",
    "\n",
    "USE_GEE = True  # Keep True to pull live Sentinel-2 NDVI once your helper is implemented\n",
    "\n",
    "try:\n",
    "    if USE_GEE:\n",
    "        ndvi_df = fetch_monthly_ndvi(\n",
    "            REGION_GEOMETRIES,\n",
    "            start_date='2018-01-01',\n",
    "            end_date='2023-12-31',\n",
    "            cloud_pct=35,\n",
    "            scale=20\n",
    "        )\n",
    "        ndvi_df.to_csv(LATEST_EXPORT_PATH, index=False)\n",
    "        print(f'Fetched {len(ndvi_df)} monthly observations from Earth Engine (project: {GEE_PROJECT}).')\n",
    "    else:\n",
    "        print('USE_GEE is False – reading cached sample export. Set back to True for live data.')\n",
    "        ndvi_df = pd.read_csv(SAMPLE_PATH)\n",
    "except NotImplementedError:\n",
    "    raise\n",
    "except Exception as exc:\n",
    "    print(f'Earth Engine fetch failed ({exc}). Falling back to cached sample CSV...')\n",
    "    ndvi_df = pd.read_csv(SAMPLE_PATH)\n",
    "\n",
    "ndvi_df['month'] = pd.to_datetime(ndvi_df['month'])\n",
    "ndvi_df.head()\n"
   ]
  },
  {
   "cell_type": "markdown",
   "id": "98c444d9",
   "metadata": {},
   "source": [
    "## Part 6 · TODO – explore NDVI trends\n",
    "\n",
    "Tasks:\n",
    "- Plot NDVI series for each province with a 0.40 drought threshold line.\n",
    "- Comment on any obvious drought periods."
   ]
  },
  {
   "cell_type": "code",
   "execution_count": null,
   "id": "579821eb",
   "metadata": {},
   "outputs": [],
   "source": [
    "# TODO: visualise NDVI series per province and highlight the drought threshold.\n",
    "raise NotImplementedError(\"Plot NDVI time series with drought threshold annotations.\")\n"
   ]
  },
  {
   "cell_type": "markdown",
   "id": "046d5571",
   "metadata": {},
   "source": [
    "## Part 7 · TODO – seasonal statistics\n",
    "\n",
    "1. Compute mean NDVI for wet vs dry seasons per province.\n",
    "2. Identify the lowest NDVI value and month per province."
   ]
  },
  {
   "cell_type": "code",
   "execution_count": null,
   "id": "da811946",
   "metadata": {},
   "outputs": [],
   "source": [
    "# TODO: build a summary DataFrame with dry_mean, wet_mean, lowest_ndvi, lowest_month.\n",
    "raise NotImplementedError(\"Create seasonal summary statistics for each province.\")\n"
   ]
  },
  {
   "cell_type": "markdown",
   "id": "ff259aca",
   "metadata": {},
   "source": [
    "## Part 8 · Prepare sliding-window sequences"
   ]
  },
  {
   "cell_type": "code",
   "execution_count": null,
   "id": "3acf5d7c",
   "metadata": {},
   "outputs": [],
   "source": [
    "LOOKBACK = 12  # months of history\n",
    "HORIZON = 1    # predict 1 month ahead"
   ]
  },
  {
   "cell_type": "markdown",
   "id": "80e13438",
   "metadata": {},
   "source": [
    "Create the supervised dataset:\n",
    "- For each province, collect 12 months of NDVI history.\n",
    "- Predict the NDVI of the following month.\n",
    "- Store location, target_month, sequence (np.array), and target NDVI."
   ]
  },
  {
   "cell_type": "code",
   "execution_count": null,
   "id": "b7b974b9",
   "metadata": {},
   "outputs": [],
   "source": [
    "# TODO: populate sequence_df with location, target_month, sequence, target columns.\n",
    "raise NotImplementedError(\"Create sequence_df using LOOKBACK/HORIZON configuration.\")\n"
   ]
  },
  {
   "cell_type": "markdown",
   "id": "c702c525",
   "metadata": {},
   "source": [
    "## Part 9 · TODO – temporal train/validation/test split"
   ]
  },
  {
   "cell_type": "code",
   "execution_count": null,
   "id": "dec250d4",
   "metadata": {},
   "outputs": [],
   "source": [
    "train_end = pd.Timestamp('2021-12-31')\n",
    "val_end = pd.Timestamp('2022-12-31')\n",
    "\n",
    "# TODO: define boolean masks train_mask, val_mask, test_mask based on target_month and print sample counts.\n",
    "raise NotImplementedError(\"Create temporal masks for train/val/test splits.\")\n"
   ]
  },
  {
   "cell_type": "markdown",
   "id": "b952078d",
   "metadata": {},
   "source": [
    "## Part 10 · TODO – scaling using the training period only"
   ]
  },
  {
   "cell_type": "code",
   "execution_count": null,
   "id": "74f36ffd",
   "metadata": {},
   "outputs": [],
   "source": [
    "# TODO: compute ndvi_min and ndvi_max from the training period and define scale()/invert() helpers.\n",
    "raise NotImplementedError(\"Derive scaling functions from the training NDVI range.\")\n"
   ]
  },
  {
   "cell_type": "code",
   "execution_count": null,
   "id": "9cf2fcaf",
   "metadata": {},
   "outputs": [],
   "source": [
    "# TODO: implement a helper similar to stack_split(mask) that returns scaled features/targets and metadata.\n",
    "raise NotImplementedError(\"Transform raw sequences into scaled arrays for train/val/test splits.\")\n"
   ]
  },
  {
   "cell_type": "markdown",
   "id": "edd8f5ce",
   "metadata": {},
   "source": [
    "## Part 11 · TODO – create PyTorch datasets and data loaders"
   ]
  },
  {
   "cell_type": "code",
   "execution_count": null,
   "id": "d9514840",
   "metadata": {},
   "outputs": [],
   "source": [
    "# TODO: implement a SequenceDataset class and build DataLoader objects for train/val splits.\n",
    "raise NotImplementedError(\"Wrap the scaled arrays into PyTorch Dataset/DataLoader objects.\")\n"
   ]
  },
  {
   "cell_type": "markdown",
   "id": "1ba67ae0",
   "metadata": {},
   "source": [
    "## Part 12 · TODO – define the LSTM model"
   ]
  },
  {
   "cell_type": "code",
   "execution_count": null,
   "id": "0735cee8",
   "metadata": {},
   "outputs": [],
   "source": [
    "# TODO: create an NDVIForecaster nn.Module (2 LSTM layers + dense head) and choose loss/optimizer.\n",
    "raise NotImplementedError(\"Instantiate the PyTorch LSTM model, loss, and optimizer.\")\n"
   ]
  },
  {
   "cell_type": "markdown",
   "id": "24f243aa",
   "metadata": {},
   "source": [
    "## Part 13 · TODO – training loop"
   ]
  },
  {
   "cell_type": "code",
   "execution_count": null,
   "id": "d2853515",
   "metadata": {},
   "outputs": [],
   "source": [
    "# TODO: implement the training loop (e.g., using a helper run_epoch). Capture train/val loss & MAE history.\n",
    "raise NotImplementedError(\"Train the model and store the learning history.\")\n"
   ]
  },
  {
   "cell_type": "markdown",
   "id": "43329516",
   "metadata": {},
   "source": [
    "## Part 14 · TODO – plot learning curves"
   ]
  },
  {
   "cell_type": "code",
   "execution_count": null,
   "id": "60f428ee",
   "metadata": {},
   "outputs": [],
   "source": [
    "# TODO: visualise train vs validation MSE/MAE using the recorded history.\n",
    "raise NotImplementedError(\"Plot train/validation metrics across epochs.\")\n"
   ]
  },
  {
   "cell_type": "markdown",
   "id": "875c62b2",
   "metadata": {},
   "source": [
    "## Part 15 · TODO – evaluate on held-out months"
   ]
  },
  {
   "cell_type": "code",
   "execution_count": null,
   "id": "11d9e2bd",
   "metadata": {},
   "outputs": [],
   "source": [
    "# TODO: generate predictions on the test set, invert scaling, and assemble a results DataFrame.\n",
    "raise NotImplementedError(\"Evaluate the model on held-out months and prepare results_df.\")\n"
   ]
  },
  {
   "cell_type": "code",
   "execution_count": null,
   "id": "c0f52c7f",
   "metadata": {},
   "outputs": [],
   "source": [
    "# TODO: compute MAE and RMSE on the test period.\n",
    "raise NotImplementedError(\"Report MAE and RMSE for the test set.\")\n"
   ]
  },
  {
   "cell_type": "code",
   "execution_count": null,
   "id": "a44a3c8f",
   "metadata": {},
   "outputs": [],
   "source": [
    "# TODO: plot actual vs predicted NDVI for each province with the drought threshold line.\n",
    "raise NotImplementedError(\"Visualise forecasts alongside actual NDVI trajectories.\")\n"
   ]
  },
  {
   "cell_type": "markdown",
   "id": "9909c03f",
   "metadata": {},
   "source": [
    "## Part 16 · TODO – drought alert metrics\n",
    "\n",
    "Implement a binary drought alert (NDVI < 0.40) and report precision/recall."
   ]
  },
  {
   "cell_type": "code",
   "execution_count": null,
   "id": "9265215f",
   "metadata": {},
   "outputs": [],
   "source": [
    "# TODO: derive drought alerts from your predictions and compute confusion matrix + precision/recall.\n",
    "raise NotImplementedError(\"Translate NDVI forecasts into drought alert metrics.\")\n"
   ]
  },
  {
   "cell_type": "markdown",
   "id": "cea0d5e1",
   "metadata": {},
   "source": [
    "## Reflection\n",
    "\n",
    "- What challenges did you face when moving from synthetic to Earth Engine data?\n",
    "- How sensitive was the model to the scaling range?\n",
    "- What additional covariates would you add next (rainfall, ONI, soil moisture)?"
   ]
  }
 ],
 "metadata": {
  "kernelspec": {
   "display_name": "Python 3",
   "language": "python",
   "name": "python3"
  },
  "language_info": {
   "name": "python",
   "version": "3.8.0"
  }
 },
 "nbformat": 4,
 "nbformat_minor": 5
}
